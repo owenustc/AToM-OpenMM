{
  "nbformat": 4,
  "nbformat_minor": 0,
  "metadata": {
    "colab": {
      "private_outputs": true,
      "provenance": [],
      "collapsed_sections": [],
      "machine_shape": "hm",
      "toc_visible": true,
      "include_colab_link": true
    },
    "kernelspec": {
      "name": "python3",
      "display_name": "Python 3"
    },
    "language_info": {
      "name": "python"
    },
    "accelerator": "GPU",
    "gpuClass": "premium"
  },
  "cells": [
    {
      "cell_type": "markdown",
      "metadata": {
        "id": "view-in-github",
        "colab_type": "text"
      },
      "source": [
        "<a href=\"https://colab.research.google.com/github/owenustc/AToM-OpenMM/blob/master/%E2%80%9C%E2%80%9CBAT_Colab_py_ipynb%E2%80%9D%E7%9A%84%E5%89%AF%E6%9C%AC%E2%80%9D%E7%9A%84%E5%89%AF%E6%9C%AC.ipynb\" target=\"_parent\"><img src=\"https://colab.research.google.com/assets/colab-badge.svg\" alt=\"Open In Colab\"/></a>"
      ]
    },
    {
      "cell_type": "markdown",
      "source": [
        "## BAT.py on Colab.\n",
        "\n",
        "Commands near a ⚠️ sign can only be run in colab's terminal.\n"
      ],
      "metadata": {
        "id": "mlyHNnzkt_sO"
      }
    },
    {
      "cell_type": "code",
      "source": [
        "#@title ### Import Drive\n",
        "from google.colab import drive\n",
        "\n",
        "drive.flush_and_unmount()\n",
        "drive.mount('/content/drive', force_remount=True)\n"
      ],
      "metadata": {
        "id": "sUppzTmACtqQ"
      },
      "execution_count": null,
      "outputs": []
    },
    {
      "cell_type": "code",
      "execution_count": null,
      "metadata": {
        "id": "23TOba33L4qf"
      },
      "outputs": [],
      "source": [
        "gpu_info = !nvidia-smi\n",
        "gpu_info = '\\n'.join(gpu_info)\n",
        "if gpu_info.find('failed') >= 0:\n",
        "  print('Not connected to a GPU')\n",
        "else:\n",
        "  print(gpu_info)"
      ]
    },
    {
      "cell_type": "code",
      "execution_count": null,
      "metadata": {
        "id": "AXABaFuhWzEz"
      },
      "outputs": [],
      "source": [
        "#@title Install packages\n",
        "! wget https://repo.anaconda.com/miniconda/Miniconda3-py37_4.12.0-Linux-x86_64.sh /usr/\n",
        "! chmod +x Miniconda3-py37_4.12.0-Linux-x86_64.sh\n",
        "! bash ./Miniconda3-py37_4.12.0-Linux-x86_64.sh -b -f -p /usr/local 2>&1 1>/dev/null\n",
        "\n",
        "#@title Install 6 packages with Conda\n",
        "!conda install -q -y -c openbabel openbabel --yes 2>&1 1>/dev/null\n",
        "#@title Install Ambertools\n",
        "!conda install -c conda-forge ambertools --yes 2>&1 1>/dev/null\n",
        "#@title Install vmd\n",
        "!conda install -c conda-forge vmd --yes 2>&1 1>/dev/null\n",
        "#@title Install Openmmtools\n",
        "!conda install -c conda-forge openmmtools --yes 2>&1 1>/dev/null\n",
        "#@title Install openmm\n",
        "!conda install -c conda-forge openmm --yes 2>&1 1>/dev/null"
      ]
    },
    {
      "cell_type": "code",
      "source": [
        "#@title Compile MUSTANG\n",
        "!wget https://lcb.infotech.monash.edu/mustang/mustang_v3.2.3.tgz 2>&1 1>/dev/null\n",
        "!tar -xvf mustang_v3.2.3.tgz 2>&1 1>/dev/null\n",
        "%cd /content/MUSTANG_v3.2.3\n",
        "#@title Install MUSTANG\n",
        "!make 2>&1 1>/dev/null\n",
        "\n",
        "#@title Test MUSTANG\n",
        "!cp /content/MUSTANG_v3.2.3/bin/mustang-3.2.3  /usr/local/bin/\n",
        "!pwd\n",
        "!mustang-3.2.3 -f MUSTANG_v3.2.3/data/test/test_zf-CCHH"
      ],
      "metadata": {
        "id": "ayIyHoc9ZsYT"
      },
      "execution_count": null,
      "outputs": []
    },
    {
      "cell_type": "code",
      "source": [
        "#@title Working path\n",
        "working_path = \"/content/drive/MyDrive\" #@param {type:\"string\"}\n",
        "%cd '{working_path}'\n"
      ],
      "metadata": {
        "id": "cJCPg3RHYZeX"
      },
      "execution_count": null,
      "outputs": []
    },
    {
      "cell_type": "code",
      "source": [
        "#@title Download BAT.py\n",
        "!git clone https://github.com/GHeinzelmann/BAT.py.git"
      ],
      "metadata": {
        "id": "g62oSvmPZsHq"
      },
      "execution_count": null,
      "outputs": []
    },
    {
      "cell_type": "markdown",
      "source": [
        "## Stage 1: Equilbration"
      ],
      "metadata": {
        "id": "1gwNcZXUfn1y"
      }
    },
    {
      "cell_type": "code",
      "source": [
        "#Build equil folder\n",
        "!cd BAT.py/BAT/\n",
        "!source ~/.bashrc && cd BAT.py/BAT && python BAT.py -i input-dd-openmm.in -s equil\n"
      ],
      "metadata": {
        "id": "8Qz1Fu6IZw97"
      },
      "execution_count": null,
      "outputs": []
    },
    {
      "cell_type": "code",
      "source": [
        "%cd /content/drive/MyDrive/BAT.py/BAT/equil/pose0\n",
        "!sed -i 's/15000000/500000/' equil-08.py "
      ],
      "metadata": {
        "id": "_8Jcq4ON-ysw"
      },
      "execution_count": null,
      "outputs": []
    },
    {
      "cell_type": "code",
      "source": [
        "#Go to Pose0\n",
        "!ls /content/drive/MyDrive/BAT.py/BAT/equil/run_files\n",
        "!cp /content/drive/MyDrive/BAT.py/BAT/equil/run_files/local-equil-op.bash /content/drive/MyDrive/BAT.py/BAT/equil/pose0/ \n",
        "%cd /content/drive/MyDrive/BAT.py/BAT/equil/pose0/ \n",
        "!cat local-equil-op.bash\n",
        "#Replace RANGE with '8'\n",
        "!sed -i 's/RANGE/8/' local-equil-op.bash && cat local-equil-op.bash\n",
        "##Start simulation\n",
        "!bash local-equil-op.bash\n"
      ],
      "metadata": {
        "id": "IlMTKzRp3XKS"
      },
      "execution_count": null,
      "outputs": []
    },
    {
      "cell_type": "code",
      "source": [
        "##Free energy\n",
        "%cd /content/drive/MyDrive/BAT.py/BAT/ \n",
        "!ls && python BAT.py -i input-dd-openmm.in -s fe\n",
        "%cd /content/drive/MyDrive/BAT.py/BAT/fe/pose0 \n",
        "!cp /content/drive/MyDrive/BAT.py/BAT/run_files/run-op-dd.bash ./\n",
        "#@title Modify run script\n",
        "%cd fe/pose0\n",
        "!cp ../../run_files/run-op-dd.bash .\n",
        "!sed -i 's/qsub PBS-a/bash local-rest.bash/g ' run-op-dd.bash\n",
        "!sed -i 's/qsub PBS-l/bash local-rest.bash/g ' run-op-dd.bash\n",
        "!sed -i 's/qsub PBS-t/bash local-rest.bash/g ' run-op-dd.bash\n",
        "!sed -i 's/qsub PBS-c/bash local-rest.bash/g ' run-op-dd.bash\n",
        "!sed -i 's/qsub PBS-r/bash local-rest.bash/g ' run-op-dd.bash\n",
        "!sed -i 's/qsub PBS-e/bash local-dd.bash/g ' run-op-dd.bash\n",
        "!sed -i 's/qsub PBS-v/bash local-dd.bash/g ' run-op-dd.bash\n",
        "!sed -i 's/qsub PBS-w/bash local-dd.bash/g ' run-op-dd.bash\n",
        "!sed -i 's/qsub PBS-w/bash local-dd.bash/g ' run-op-dd.bash\n",
        "!sed -i 's/qsub PBS-f/bash local-dd.bash/g ' run-op-dd.bash\n",
        "!bash run-op-dd.bash\n",
        "\n"
      ],
      "metadata": {
        "id": "BqKwR4M63Vkb"
      },
      "execution_count": null,
      "outputs": []
    },
    {
      "cell_type": "code",
      "source": [
        "%cd /content/drive/MyDrive/BAT.py/BAT/fe/pose0 \n",
        "!bash run-op-dd.bash "
      ],
      "metadata": {
        "id": "DBBSWLtJ2XZ2"
      },
      "execution_count": null,
      "outputs": []
    },
    {
      "cell_type": "markdown",
      "source": [
        "## Analysis "
      ],
      "metadata": {
        "id": "91JLOrJKtP-m"
      }
    },
    {
      "cell_type": "markdown",
      "source": [
        " Run in terminal⚠️\n",
        "```\n",
        "%cd ../../\n",
        "!python BAT.py -i input-dd.in -s analysis\n",
        "```"
      ],
      "metadata": {
        "id": "4BbjYeG0tasI"
      }
    },
    {
      "cell_type": "code",
      "source": [
        "#@title Job control\n",
        "while True:pass"
      ],
      "metadata": {
        "id": "cZpVUab5KhSU"
      },
      "execution_count": null,
      "outputs": []
    }
  ]
}